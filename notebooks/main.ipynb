{
 "cells": [
  {
   "cell_type": "code",
   "execution_count": 1,
   "metadata": {},
   "outputs": [],
   "source": [
    "import os\n",
    "os.chdir('..')"
   ]
  },
  {
   "cell_type": "code",
   "execution_count": 2,
   "metadata": {},
   "outputs": [],
   "source": [
    "from pathlib import Path\n",
    "import json\n",
    "import yaml\n",
    "import pandas as pd\n",
    "import seaborn as sns\n",
    "import numpy as np\n",
    "import matplotlib.pyplot as plt"
   ]
  },
  {
   "cell_type": "code",
   "execution_count": 3,
   "metadata": {},
   "outputs": [],
   "source": [
    "run_dir = Path(\"logs/train/runs/mnist\")\n",
    "metric_files = [d for d in run_dir.rglob(\"metrics.csv\")]"
   ]
  },
  {
   "cell_type": "code",
   "execution_count": 12,
   "metadata": {},
   "outputs": [
    {
     "data": {
      "text/html": [
       "<div>\n",
       "<style scoped>\n",
       "    .dataframe tbody tr th:only-of-type {\n",
       "        vertical-align: middle;\n",
       "    }\n",
       "\n",
       "    .dataframe tbody tr th {\n",
       "        vertical-align: top;\n",
       "    }\n",
       "\n",
       "    .dataframe thead th {\n",
       "        text-align: right;\n",
       "    }\n",
       "</style>\n",
       "<table border=\"1\" class=\"dataframe\">\n",
       "  <thead>\n",
       "    <tr style=\"text-align: right;\">\n",
       "      <th></th>\n",
       "      <th>test_aug</th>\n",
       "      <th>train_aug</th>\n",
       "      <th>eval_seed</th>\n",
       "      <th>train_seed</th>\n",
       "      <th>test/loss</th>\n",
       "      <th>test/acc</th>\n",
       "    </tr>\n",
       "  </thead>\n",
       "  <tbody>\n",
       "    <tr>\n",
       "      <th>0</th>\n",
       "      <td>blur</td>\n",
       "      <td>gaussian_noise</td>\n",
       "      <td>12345</td>\n",
       "      <td>12345</td>\n",
       "      <td>0.578279</td>\n",
       "      <td>0.8559</td>\n",
       "    </tr>\n",
       "    <tr>\n",
       "      <th>1</th>\n",
       "      <td>brightness</td>\n",
       "      <td>gaussian_noise</td>\n",
       "      <td>12345</td>\n",
       "      <td>12345</td>\n",
       "      <td>0.134458</td>\n",
       "      <td>0.9590</td>\n",
       "    </tr>\n",
       "    <tr>\n",
       "      <th>2</th>\n",
       "      <td>baseline</td>\n",
       "      <td>gaussian_noise</td>\n",
       "      <td>12345</td>\n",
       "      <td>12345</td>\n",
       "      <td>0.067722</td>\n",
       "      <td>0.9811</td>\n",
       "    </tr>\n",
       "    <tr>\n",
       "      <th>3</th>\n",
       "      <td>gaussian_noise</td>\n",
       "      <td>gaussian_noise</td>\n",
       "      <td>12345</td>\n",
       "      <td>12345</td>\n",
       "      <td>0.067311</td>\n",
       "      <td>0.9812</td>\n",
       "    </tr>\n",
       "    <tr>\n",
       "      <th>4</th>\n",
       "      <td>rotation</td>\n",
       "      <td>gaussian_noise</td>\n",
       "      <td>12345</td>\n",
       "      <td>12345</td>\n",
       "      <td>0.215376</td>\n",
       "      <td>0.9478</td>\n",
       "    </tr>\n",
       "  </tbody>\n",
       "</table>\n",
       "</div>"
      ],
      "text/plain": [
       "         test_aug       train_aug  eval_seed  train_seed  test/loss  test/acc\n",
       "0            blur  gaussian_noise      12345       12345   0.578279    0.8559\n",
       "1      brightness  gaussian_noise      12345       12345   0.134458    0.9590\n",
       "2        baseline  gaussian_noise      12345       12345   0.067722    0.9811\n",
       "3  gaussian_noise  gaussian_noise      12345       12345   0.067311    0.9812\n",
       "4        rotation  gaussian_noise      12345       12345   0.215376    0.9478"
      ]
     },
     "execution_count": 12,
     "metadata": {},
     "output_type": "execute_result"
    }
   ],
   "source": [
    "df = pd.concat([pd.read_csv(m) for m in metric_files], ignore_index=True)\n",
    "df.drop(df.columns[df.columns.str.contains('unnamed',case = False)],axis = 1, inplace = True)\n",
    "df.head(5)"
   ]
  },
  {
   "cell_type": "code",
   "execution_count": 13,
   "metadata": {},
   "outputs": [
    {
     "name": "stdout",
     "output_type": "stream",
     "text": [
      "<class 'pandas.core.frame.DataFrame'>\n",
      "RangeIndex: 100 entries, 0 to 99\n",
      "Data columns (total 6 columns):\n",
      " #   Column      Non-Null Count  Dtype  \n",
      "---  ------      --------------  -----  \n",
      " 0   test_aug    100 non-null    object \n",
      " 1   train_aug   100 non-null    object \n",
      " 2   eval_seed   100 non-null    int64  \n",
      " 3   train_seed  100 non-null    int64  \n",
      " 4   test/loss   100 non-null    float64\n",
      " 5   test/acc    100 non-null    float64\n",
      "dtypes: float64(2), int64(2), object(2)\n",
      "memory usage: 4.8+ KB\n"
     ]
    }
   ],
   "source": [
    "df.info()"
   ]
  },
  {
   "cell_type": "code",
   "execution_count": 14,
   "metadata": {},
   "outputs": [
    {
     "data": {
      "text/html": [
       "<div>\n",
       "<style scoped>\n",
       "    .dataframe tbody tr th:only-of-type {\n",
       "        vertical-align: middle;\n",
       "    }\n",
       "\n",
       "    .dataframe tbody tr th {\n",
       "        vertical-align: top;\n",
       "    }\n",
       "\n",
       "    .dataframe thead th {\n",
       "        text-align: right;\n",
       "    }\n",
       "</style>\n",
       "<table border=\"1\" class=\"dataframe\">\n",
       "  <thead>\n",
       "    <tr style=\"text-align: right;\">\n",
       "      <th></th>\n",
       "      <th>test_aug</th>\n",
       "      <th>train_aug</th>\n",
       "      <th>eval_seed</th>\n",
       "      <th>train_seed</th>\n",
       "      <th>test/loss</th>\n",
       "      <th>test/acc</th>\n",
       "    </tr>\n",
       "  </thead>\n",
       "  <tbody>\n",
       "    <tr>\n",
       "      <th>0</th>\n",
       "      <td>baseline</td>\n",
       "      <td>baseline</td>\n",
       "      <td>12345.0</td>\n",
       "      <td>10587.75</td>\n",
       "      <td>0.068644</td>\n",
       "      <td>0.980600</td>\n",
       "    </tr>\n",
       "    <tr>\n",
       "      <th>1</th>\n",
       "      <td>baseline</td>\n",
       "      <td>blur</td>\n",
       "      <td>12345.0</td>\n",
       "      <td>10587.75</td>\n",
       "      <td>0.066172</td>\n",
       "      <td>0.980375</td>\n",
       "    </tr>\n",
       "    <tr>\n",
       "      <th>2</th>\n",
       "      <td>baseline</td>\n",
       "      <td>brightness</td>\n",
       "      <td>12345.0</td>\n",
       "      <td>10587.75</td>\n",
       "      <td>0.066757</td>\n",
       "      <td>0.980375</td>\n",
       "    </tr>\n",
       "    <tr>\n",
       "      <th>3</th>\n",
       "      <td>baseline</td>\n",
       "      <td>gaussian_noise</td>\n",
       "      <td>12345.0</td>\n",
       "      <td>10587.75</td>\n",
       "      <td>0.072328</td>\n",
       "      <td>0.979750</td>\n",
       "    </tr>\n",
       "    <tr>\n",
       "      <th>4</th>\n",
       "      <td>baseline</td>\n",
       "      <td>rotation</td>\n",
       "      <td>12345.0</td>\n",
       "      <td>10587.75</td>\n",
       "      <td>0.056397</td>\n",
       "      <td>0.982400</td>\n",
       "    </tr>\n",
       "  </tbody>\n",
       "</table>\n",
       "</div>"
      ],
      "text/plain": [
       "   test_aug       train_aug  eval_seed  train_seed  test/loss  test/acc\n",
       "0  baseline        baseline    12345.0    10587.75   0.068644  0.980600\n",
       "1  baseline            blur    12345.0    10587.75   0.066172  0.980375\n",
       "2  baseline      brightness    12345.0    10587.75   0.066757  0.980375\n",
       "3  baseline  gaussian_noise    12345.0    10587.75   0.072328  0.979750\n",
       "4  baseline        rotation    12345.0    10587.75   0.056397  0.982400"
      ]
     },
     "execution_count": 14,
     "metadata": {},
     "output_type": "execute_result"
    }
   ],
   "source": [
    "group_df = df.groupby([\"test_aug\", \"train_aug\"], as_index=False).mean()\n",
    "group_df.head(5)"
   ]
  },
  {
   "cell_type": "code",
   "execution_count": 15,
   "metadata": {},
   "outputs": [],
   "source": [
    "corr = group_df.pivot(index=\"test_aug\", columns=\"train_aug\", values=\"test/acc\")\n",
    "corr = corr.apply(lambda x: x - corr.iloc[:, 0])"
   ]
  },
  {
   "cell_type": "code",
   "execution_count": 16,
   "metadata": {},
   "outputs": [
    {
     "data": {
      "text/html": [
       "<style type=\"text/css\">\n",
       "#T_323be_row0_col0, #T_323be_row0_col4, #T_323be_row1_col0, #T_323be_row2_col0, #T_323be_row3_col0, #T_323be_row3_col4, #T_323be_row4_col0, #T_323be_row4_col1, #T_323be_row4_col3 {\n",
       "  background-color: #f6f6f7;\n",
       "  color: #000000;\n",
       "}\n",
       "#T_323be_row0_col1, #T_323be_row0_col2, #T_323be_row0_col3, #T_323be_row3_col1, #T_323be_row3_col2, #T_323be_row3_col3 {\n",
       "  background-color: #f7f7f6;\n",
       "  color: #000000;\n",
       "}\n",
       "#T_323be_row1_col1 {\n",
       "  background-color: #afa8d0;\n",
       "  color: #000000;\n",
       "}\n",
       "#T_323be_row1_col2 {\n",
       "  background-color: #e1e2ee;\n",
       "  color: #000000;\n",
       "}\n",
       "#T_323be_row1_col3, #T_323be_row2_col1 {\n",
       "  background-color: #f9f1e6;\n",
       "  color: #000000;\n",
       "}\n",
       "#T_323be_row1_col4, #T_323be_row4_col2 {\n",
       "  background-color: #f5f5f6;\n",
       "  color: #000000;\n",
       "}\n",
       "#T_323be_row2_col2 {\n",
       "  background-color: #cecde4;\n",
       "  color: #000000;\n",
       "}\n",
       "#T_323be_row2_col3 {\n",
       "  background-color: #dee0ed;\n",
       "  color: #000000;\n",
       "}\n",
       "#T_323be_row2_col4 {\n",
       "  background-color: #f7f6f3;\n",
       "  color: #000000;\n",
       "}\n",
       "#T_323be_row4_col4 {\n",
       "  background-color: #e7e8f1;\n",
       "  color: #000000;\n",
       "}\n",
       "</style>\n",
       "<table id=\"T_323be\">\n",
       "  <thead>\n",
       "    <tr>\n",
       "      <th class=\"index_name level0\" >train_aug</th>\n",
       "      <th id=\"T_323be_level0_col0\" class=\"col_heading level0 col0\" >baseline</th>\n",
       "      <th id=\"T_323be_level0_col1\" class=\"col_heading level0 col1\" >blur</th>\n",
       "      <th id=\"T_323be_level0_col2\" class=\"col_heading level0 col2\" >brightness</th>\n",
       "      <th id=\"T_323be_level0_col3\" class=\"col_heading level0 col3\" >gaussian_noise</th>\n",
       "      <th id=\"T_323be_level0_col4\" class=\"col_heading level0 col4\" >rotation</th>\n",
       "    </tr>\n",
       "    <tr>\n",
       "      <th class=\"index_name level0\" >test_aug</th>\n",
       "      <th class=\"blank col0\" >&nbsp;</th>\n",
       "      <th class=\"blank col1\" >&nbsp;</th>\n",
       "      <th class=\"blank col2\" >&nbsp;</th>\n",
       "      <th class=\"blank col3\" >&nbsp;</th>\n",
       "      <th class=\"blank col4\" >&nbsp;</th>\n",
       "    </tr>\n",
       "  </thead>\n",
       "  <tbody>\n",
       "    <tr>\n",
       "      <th id=\"T_323be_level0_row0\" class=\"row_heading level0 row0\" >baseline</th>\n",
       "      <td id=\"T_323be_row0_col0\" class=\"data row0 col0\" >0.000000</td>\n",
       "      <td id=\"T_323be_row0_col1\" class=\"data row0 col1\" >-0.000225</td>\n",
       "      <td id=\"T_323be_row0_col2\" class=\"data row0 col2\" >-0.000225</td>\n",
       "      <td id=\"T_323be_row0_col3\" class=\"data row0 col3\" >-0.000850</td>\n",
       "      <td id=\"T_323be_row0_col4\" class=\"data row0 col4\" >0.001800</td>\n",
       "    </tr>\n",
       "    <tr>\n",
       "      <th id=\"T_323be_level0_row1\" class=\"row_heading level0 row1\" >blur</th>\n",
       "      <td id=\"T_323be_row1_col0\" class=\"data row1 col0\" >0.000000</td>\n",
       "      <td id=\"T_323be_row1_col1\" class=\"data row1 col1\" >0.123925</td>\n",
       "      <td id=\"T_323be_row1_col2\" class=\"data row1 col2\" >0.043500</td>\n",
       "      <td id=\"T_323be_row1_col3\" class=\"data row1 col3\" >-0.014450</td>\n",
       "      <td id=\"T_323be_row1_col4\" class=\"data row1 col4\" >0.003225</td>\n",
       "    </tr>\n",
       "    <tr>\n",
       "      <th id=\"T_323be_level0_row2\" class=\"row_heading level0 row2\" >brightness</th>\n",
       "      <td id=\"T_323be_row2_col0\" class=\"data row2 col0\" >0.000000</td>\n",
       "      <td id=\"T_323be_row2_col1\" class=\"data row2 col1\" >-0.016100</td>\n",
       "      <td id=\"T_323be_row2_col2\" class=\"data row2 col2\" >0.076400</td>\n",
       "      <td id=\"T_323be_row2_col3\" class=\"data row2 col3\" >0.047600</td>\n",
       "      <td id=\"T_323be_row2_col4\" class=\"data row2 col4\" >-0.003850</td>\n",
       "    </tr>\n",
       "    <tr>\n",
       "      <th id=\"T_323be_level0_row3\" class=\"row_heading level0 row3\" >gaussian_noise</th>\n",
       "      <td id=\"T_323be_row3_col0\" class=\"data row3 col0\" >0.000000</td>\n",
       "      <td id=\"T_323be_row3_col1\" class=\"data row3 col1\" >-0.000650</td>\n",
       "      <td id=\"T_323be_row3_col2\" class=\"data row3 col2\" >-0.000100</td>\n",
       "      <td id=\"T_323be_row3_col3\" class=\"data row3 col3\" >-0.000925</td>\n",
       "      <td id=\"T_323be_row3_col4\" class=\"data row3 col4\" >0.001550</td>\n",
       "    </tr>\n",
       "    <tr>\n",
       "      <th id=\"T_323be_level0_row4\" class=\"row_heading level0 row4\" >rotation</th>\n",
       "      <td id=\"T_323be_row4_col0\" class=\"data row4 col0\" >0.000000</td>\n",
       "      <td id=\"T_323be_row4_col1\" class=\"data row4 col1\" >0.000225</td>\n",
       "      <td id=\"T_323be_row4_col2\" class=\"data row4 col2\" >0.002950</td>\n",
       "      <td id=\"T_323be_row4_col3\" class=\"data row4 col3\" >0.000050</td>\n",
       "      <td id=\"T_323be_row4_col4\" class=\"data row4 col4\" >0.031650</td>\n",
       "    </tr>\n",
       "  </tbody>\n",
       "</table>\n"
      ],
      "text/plain": [
       "<pandas.io.formats.style.Styler at 0x7f8a6431fb80>"
      ]
     },
     "execution_count": 16,
     "metadata": {},
     "output_type": "execute_result"
    }
   ],
   "source": [
    "corr.style.background_gradient(cmap='PuOr', \n",
    "    vmin=-0.3, vmax=0.3, axis=None)"
   ]
  },
  {
   "cell_type": "code",
   "execution_count": 8,
   "metadata": {},
   "outputs": [
    {
     "data": {
      "text/html": [
       "<style type=\"text/css\">\n",
       "#T_c6cd7_row0_col0, #T_c6cd7_row0_col1, #T_c6cd7_row0_col2, #T_c6cd7_row0_col3, #T_c6cd7_row0_col4, #T_c6cd7_row1_col0, #T_c6cd7_row2_col0, #T_c6cd7_row3_col0, #T_c6cd7_row3_col1, #T_c6cd7_row3_col2, #T_c6cd7_row3_col3, #T_c6cd7_row3_col4, #T_c6cd7_row4_col0, #T_c6cd7_row4_col2, #T_c6cd7_row4_col3 {\n",
       "  background-color: #f6f6f7;\n",
       "  color: #000000;\n",
       "}\n",
       "#T_c6cd7_row1_col1 {\n",
       "  background-color: #d7d8ea;\n",
       "  color: #000000;\n",
       "}\n",
       "#T_c6cd7_row1_col2 {\n",
       "  background-color: #f8f4ee;\n",
       "  color: #000000;\n",
       "}\n",
       "#T_c6cd7_row1_col3 {\n",
       "  background-color: #f7f7f6;\n",
       "  color: #000000;\n",
       "}\n",
       "#T_c6cd7_row1_col4 {\n",
       "  background-color: #f9f0e4;\n",
       "  color: #000000;\n",
       "}\n",
       "#T_c6cd7_row2_col1 {\n",
       "  background-color: #fde4c0;\n",
       "  color: #000000;\n",
       "}\n",
       "#T_c6cd7_row2_col2 {\n",
       "  background-color: #dee0ed;\n",
       "  color: #000000;\n",
       "}\n",
       "#T_c6cd7_row2_col3 {\n",
       "  background-color: #f2f2f5;\n",
       "  color: #000000;\n",
       "}\n",
       "#T_c6cd7_row2_col4 {\n",
       "  background-color: #fee0b6;\n",
       "  color: #000000;\n",
       "}\n",
       "#T_c6cd7_row4_col1 {\n",
       "  background-color: #f0f1f4;\n",
       "  color: #000000;\n",
       "}\n",
       "#T_c6cd7_row4_col4 {\n",
       "  background-color: #cfcfe5;\n",
       "  color: #000000;\n",
       "}\n",
       "</style>\n",
       "<table id=\"T_c6cd7\">\n",
       "  <thead>\n",
       "    <tr>\n",
       "      <th class=\"index_name level0\" >train_aug</th>\n",
       "      <th id=\"T_c6cd7_level0_col0\" class=\"col_heading level0 col0\" >baseline</th>\n",
       "      <th id=\"T_c6cd7_level0_col1\" class=\"col_heading level0 col1\" >blur</th>\n",
       "      <th id=\"T_c6cd7_level0_col2\" class=\"col_heading level0 col2\" >brightness</th>\n",
       "      <th id=\"T_c6cd7_level0_col3\" class=\"col_heading level0 col3\" >gaussian_noise</th>\n",
       "      <th id=\"T_c6cd7_level0_col4\" class=\"col_heading level0 col4\" >rotation</th>\n",
       "    </tr>\n",
       "    <tr>\n",
       "      <th class=\"index_name level0\" >test_aug</th>\n",
       "      <th class=\"blank col0\" >&nbsp;</th>\n",
       "      <th class=\"blank col1\" >&nbsp;</th>\n",
       "      <th class=\"blank col2\" >&nbsp;</th>\n",
       "      <th class=\"blank col3\" >&nbsp;</th>\n",
       "      <th class=\"blank col4\" >&nbsp;</th>\n",
       "    </tr>\n",
       "  </thead>\n",
       "  <tbody>\n",
       "    <tr>\n",
       "      <th id=\"T_c6cd7_level0_row0\" class=\"row_heading level0 row0\" >baseline</th>\n",
       "      <td id=\"T_c6cd7_row0_col0\" class=\"data row0 col0\" >0.000000</td>\n",
       "      <td id=\"T_c6cd7_row0_col1\" class=\"data row0 col1\" >0.000000</td>\n",
       "      <td id=\"T_c6cd7_row0_col2\" class=\"data row0 col2\" >0.000000</td>\n",
       "      <td id=\"T_c6cd7_row0_col3\" class=\"data row0 col3\" >0.000000</td>\n",
       "      <td id=\"T_c6cd7_row0_col4\" class=\"data row0 col4\" >0.000000</td>\n",
       "    </tr>\n",
       "    <tr>\n",
       "      <th id=\"T_c6cd7_level0_row1\" class=\"row_heading level0 row1\" >blur</th>\n",
       "      <td id=\"T_c6cd7_row1_col0\" class=\"data row1 col0\" >0.000000</td>\n",
       "      <td id=\"T_c6cd7_row1_col1\" class=\"data row1 col1\" >0.061667</td>\n",
       "      <td id=\"T_c6cd7_row1_col2\" class=\"data row1 col2\" >-0.008833</td>\n",
       "      <td id=\"T_c6cd7_row1_col3\" class=\"data row1 col3\" >-0.000667</td>\n",
       "      <td id=\"T_c6cd7_row1_col4\" class=\"data row1 col4\" >-0.017667</td>\n",
       "    </tr>\n",
       "    <tr>\n",
       "      <th id=\"T_c6cd7_level0_row2\" class=\"row_heading level0 row2\" >brightness</th>\n",
       "      <td id=\"T_c6cd7_row2_col0\" class=\"data row2 col0\" >0.000000</td>\n",
       "      <td id=\"T_c6cd7_row2_col1\" class=\"data row2 col1\" >-0.050733</td>\n",
       "      <td id=\"T_c6cd7_row2_col2\" class=\"data row2 col2\" >0.048600</td>\n",
       "      <td id=\"T_c6cd7_row2_col3\" class=\"data row2 col3\" >0.009600</td>\n",
       "      <td id=\"T_c6cd7_row2_col4\" class=\"data row2 col4\" >-0.060900</td>\n",
       "    </tr>\n",
       "    <tr>\n",
       "      <th id=\"T_c6cd7_level0_row3\" class=\"row_heading level0 row3\" >gaussian_noise</th>\n",
       "      <td id=\"T_c6cd7_row3_col0\" class=\"data row3 col0\" >0.000000</td>\n",
       "      <td id=\"T_c6cd7_row3_col1\" class=\"data row3 col1\" >0.000000</td>\n",
       "      <td id=\"T_c6cd7_row3_col2\" class=\"data row3 col2\" >0.000000</td>\n",
       "      <td id=\"T_c6cd7_row3_col3\" class=\"data row3 col3\" >0.000000</td>\n",
       "      <td id=\"T_c6cd7_row3_col4\" class=\"data row3 col4\" >0.000000</td>\n",
       "    </tr>\n",
       "    <tr>\n",
       "      <th id=\"T_c6cd7_level0_row4\" class=\"row_heading level0 row4\" >rotation</th>\n",
       "      <td id=\"T_c6cd7_row4_col0\" class=\"data row4 col0\" >0.000000</td>\n",
       "      <td id=\"T_c6cd7_row4_col1\" class=\"data row4 col1\" >0.011833</td>\n",
       "      <td id=\"T_c6cd7_row4_col2\" class=\"data row4 col2\" >0.001833</td>\n",
       "      <td id=\"T_c6cd7_row4_col3\" class=\"data row4 col3\" >0.000333</td>\n",
       "      <td id=\"T_c6cd7_row4_col4\" class=\"data row4 col4\" >0.074167</td>\n",
       "    </tr>\n",
       "  </tbody>\n",
       "</table>\n"
      ],
      "text/plain": [
       "<pandas.io.formats.style.Styler at 0x7f8a644eb310>"
      ]
     },
     "execution_count": 8,
     "metadata": {},
     "output_type": "execute_result"
    }
   ],
   "source": [
    "corr.style.background_gradient(cmap='PuOr', \n",
    "    vmin=-0.3, vmax=0.3, axis=None)"
   ]
  },
  {
   "cell_type": "markdown",
   "metadata": {},
   "source": []
  },
  {
   "cell_type": "code",
   "execution_count": 9,
   "metadata": {},
   "outputs": [
    {
     "data": {
      "text/plain": [
       "<AxesSubplot: xlabel='train_aug', ylabel='test_aug'>"
      ]
     },
     "execution_count": 9,
     "metadata": {},
     "output_type": "execute_result"
    },
    {
     "data": {
      "image/png": "[encoded data removed]",
      "text/plain": [
       "<Figure size 1100x900 with 2 Axes>"
      ]
     },
     "metadata": {},
     "output_type": "display_data"
    }
   ],
   "source": [
    "# Generate a mask for the upper triangle\n",
    "# mask = np.triu(np.ones_like(corr, dtype=bool))\n",
    "\n",
    "# Set up the matplotlib figure\n",
    "f, ax = plt.subplots(figsize=(11, 9))\n",
    "\n",
    "# Generate a custom diverging colormap\n",
    "cmap = \"gray\"\n",
    "\n",
    "# Draw the heatmap with the mask and correct aspect ratio\n",
    "sns.heatmap(corr, cmap=cmap, vmin=0.5, vmax=1.0)"
   ]
  },
  {
   "cell_type": "code",
   "execution_count": 33,
   "metadata": {},
   "outputs": [],
   "source": [
    "import albumentations as A\n",
    "from albumentations.pytorch import ToTensorV2\n",
    "from src.datamodules.cifar_datamodule import CIFAR10DataModule, AUG_DICT\n",
    "\n",
    "def visualize_augmentations(image, transform, samples=10, cols=5):\n",
    "    transform = A.Compose([t for t in transform if not isinstance(t, (A.Normalize, ToTensorV2))])\n",
    "    rows = samples // cols\n",
    "    figure, ax = plt.subplots(nrows=rows, ncols=cols, figsize=(12, 6))\n",
    "    for i in range(samples):\n",
    "        auged_image = transform(image=image)['image']\n",
    "        ax.ravel()[i].imshow(auged_image)\n",
    "        ax.ravel()[i].set_axis_off()\n",
    "    plt.tight_layout()\n",
    "    plt.show()"
   ]
  },
  {
   "cell_type": "code",
   "execution_count": 31,
   "metadata": {},
   "outputs": [],
   "source": [
    "dm = CIFAR10DataModule(aug='scale', train_val_test_split=(45_000, 5_000, 10_000))\n",
    "dm.setup()"
   ]
  },
  {
   "cell_type": "code",
   "execution_count": 41,
   "metadata": {},
   "outputs": [
    {
     "data": {
      "image/png": "[encoded data removed]",
      "text/plain": [
       "<Figure size 1200x600 with 10 Axes>"
      ]
     },
     "metadata": {},
     "output_type": "display_data"
    }
   ],
   "source": [
    "transform = A.Compose([\n",
    "    A.RGBShift(r_shift_limit=15, g_shift_limit=15, b_shift_limit=15, p=1.),\n",
    "])\n",
    "visualize_augmentations(dm.data_train.dataset.datasets[0].data[0], transform)"
   ]
  },
  {
   "cell_type": "code",
   "execution_count": null,
   "metadata": {},
   "outputs": [],
   "source": []
  }
 ],
 "metadata": {
  "interpreter": {
   "hash": "0902121bd8e82eab78451e0e9080e342e5312a1dce419ae057083ae6e1367f66"
  },
  "kernelspec": {
   "display_name": "Python 3.9.13 ('augtransfer')",
   "language": "python",
   "name": "python3"
  },
  "language_info": {
   "codemirror_mode": {
    "name": "ipython",
    "version": 3
   },
   "file_extension": ".py",
   "mimetype": "text/x-python",
   "name": "python",
   "nbconvert_exporter": "python",
   "pygments_lexer": "ipython3",
   "version": "3.9.13"
  },
  "orig_nbformat": 4
 },
 "nbformat": 4,
 "nbformat_minor": 2
}
